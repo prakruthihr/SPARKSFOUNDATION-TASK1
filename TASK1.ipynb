{
  "nbformat": 4,
  "nbformat_minor": 0,
  "metadata": {
    "colab": {
      "name": "TASK1.ipynb",
      "provenance": []
    },
    "kernelspec": {
      "name": "python3",
      "display_name": "Python 3"
    },
    "language_info": {
      "name": "python"
    }
  },
  "cells": [
    {
      "cell_type": "markdown",
      "metadata": {
        "id": "MQZ6QEumBrbp"
      },
      "source": [
        "# **THE SPARKS FOUNDATION -DATA SCIENCE AND BUISNESS  ANALYTICS INTERNSHIP**"
      ]
    },
    {
      "cell_type": "markdown",
      "metadata": {
        "id": "VeLlJHAABu5Y"
      },
      "source": [
        "# **TASK 1-Prediction using Supervised Machine learning**\n",
        "\n",
        "In this task it is required to predict marks scored by the student basend on no of hours he/she studied.\n",
        "\n",
        "## ***NAME:PRAKRUTHI H.R***"
      ]
    },
    {
      "cell_type": "code",
      "metadata": {
        "id": "SI_z57RYBjiR"
      },
      "source": [
        "#importing all required libraries\n",
        "\n",
        "import numpy as np \n",
        "import pandas as pd\n",
        "import matplotlib.pyplot as plt\n",
        "\n"
      ],
      "execution_count": 18,
      "outputs": []
    },
    {
      "cell_type": "markdown",
      "metadata": {
        "id": "a_rbcHr_HH3D"
      },
      "source": [
        "#Reading data using pandas\n",
        "PANDAS IS USED AS DATA ANALYSIS LIBRARY\n",
        "\n",
        "\n",
        "\n",
        "   \n",
        "\n",
        "\n"
      ]
    },
    {
      "cell_type": "code",
      "metadata": {
        "colab": {
          "base_uri": "https://localhost:8080/",
          "height": 0
        },
        "id": "lGMwsUeiF9Mg",
        "outputId": "c2e7c046-b13e-4b17-9da2-9381b2977f2b"
      },
      "source": [
        "#Reading the data using pandas \n",
        "link=\"https://raw.githubusercontent.com/AdiPersonalWorks/Random/master/student_scores%20-%20student_scores.csv\"\n",
        "data=pd.read_csv(link)\n",
        "print(\"sucessfully, read the data\")"
      ],
      "execution_count": 19,
      "outputs": [
        {
          "output_type": "stream",
          "name": "stdout",
          "text": [
            "sucessfully, read the data\n"
          ]
        }
      ]
    },
    {
      "cell_type": "code",
      "metadata": {
        "colab": {
          "base_uri": "https://localhost:8080/",
          "height": 204
        },
        "id": "0lzdZ0JKG5jt",
        "outputId": "813e2578-55a2-4c96-ccff-6c05d1530b0c"
      },
      "source": [
        "#DATA ANALYSIS\n",
        "data.head()                   #head returns first  5rows of a dataframe"
      ],
      "execution_count": 20,
      "outputs": [
        {
          "output_type": "execute_result",
          "data": {
            "text/html": [
              "<div>\n",
              "<style scoped>\n",
              "    .dataframe tbody tr th:only-of-type {\n",
              "        vertical-align: middle;\n",
              "    }\n",
              "\n",
              "    .dataframe tbody tr th {\n",
              "        vertical-align: top;\n",
              "    }\n",
              "\n",
              "    .dataframe thead th {\n",
              "        text-align: right;\n",
              "    }\n",
              "</style>\n",
              "<table border=\"1\" class=\"dataframe\">\n",
              "  <thead>\n",
              "    <tr style=\"text-align: right;\">\n",
              "      <th></th>\n",
              "      <th>Hours</th>\n",
              "      <th>Scores</th>\n",
              "    </tr>\n",
              "  </thead>\n",
              "  <tbody>\n",
              "    <tr>\n",
              "      <th>0</th>\n",
              "      <td>2.5</td>\n",
              "      <td>21</td>\n",
              "    </tr>\n",
              "    <tr>\n",
              "      <th>1</th>\n",
              "      <td>5.1</td>\n",
              "      <td>47</td>\n",
              "    </tr>\n",
              "    <tr>\n",
              "      <th>2</th>\n",
              "      <td>3.2</td>\n",
              "      <td>27</td>\n",
              "    </tr>\n",
              "    <tr>\n",
              "      <th>3</th>\n",
              "      <td>8.5</td>\n",
              "      <td>75</td>\n",
              "    </tr>\n",
              "    <tr>\n",
              "      <th>4</th>\n",
              "      <td>3.5</td>\n",
              "      <td>30</td>\n",
              "    </tr>\n",
              "  </tbody>\n",
              "</table>\n",
              "</div>"
            ],
            "text/plain": [
              "   Hours  Scores\n",
              "0    2.5      21\n",
              "1    5.1      47\n",
              "2    3.2      27\n",
              "3    8.5      75\n",
              "4    3.5      30"
            ]
          },
          "metadata": {},
          "execution_count": 20
        }
      ]
    },
    {
      "cell_type": "code",
      "metadata": {
        "colab": {
          "base_uri": "https://localhost:8080/",
          "height": 204
        },
        "id": "dxKzJaq4JkUf",
        "outputId": "75c444a8-6e77-4ef9-d62e-8ae949e01458"
      },
      "source": [
        "data.tail()                  #tail returns the last 5 rows of a dataframe"
      ],
      "execution_count": 21,
      "outputs": [
        {
          "output_type": "execute_result",
          "data": {
            "text/html": [
              "<div>\n",
              "<style scoped>\n",
              "    .dataframe tbody tr th:only-of-type {\n",
              "        vertical-align: middle;\n",
              "    }\n",
              "\n",
              "    .dataframe tbody tr th {\n",
              "        vertical-align: top;\n",
              "    }\n",
              "\n",
              "    .dataframe thead th {\n",
              "        text-align: right;\n",
              "    }\n",
              "</style>\n",
              "<table border=\"1\" class=\"dataframe\">\n",
              "  <thead>\n",
              "    <tr style=\"text-align: right;\">\n",
              "      <th></th>\n",
              "      <th>Hours</th>\n",
              "      <th>Scores</th>\n",
              "    </tr>\n",
              "  </thead>\n",
              "  <tbody>\n",
              "    <tr>\n",
              "      <th>20</th>\n",
              "      <td>2.7</td>\n",
              "      <td>30</td>\n",
              "    </tr>\n",
              "    <tr>\n",
              "      <th>21</th>\n",
              "      <td>4.8</td>\n",
              "      <td>54</td>\n",
              "    </tr>\n",
              "    <tr>\n",
              "      <th>22</th>\n",
              "      <td>3.8</td>\n",
              "      <td>35</td>\n",
              "    </tr>\n",
              "    <tr>\n",
              "      <th>23</th>\n",
              "      <td>6.9</td>\n",
              "      <td>76</td>\n",
              "    </tr>\n",
              "    <tr>\n",
              "      <th>24</th>\n",
              "      <td>7.8</td>\n",
              "      <td>86</td>\n",
              "    </tr>\n",
              "  </tbody>\n",
              "</table>\n",
              "</div>"
            ],
            "text/plain": [
              "    Hours  Scores\n",
              "20    2.7      30\n",
              "21    4.8      54\n",
              "22    3.8      35\n",
              "23    6.9      76\n",
              "24    7.8      86"
            ]
          },
          "metadata": {},
          "execution_count": 21
        }
      ]
    },
    {
      "cell_type": "code",
      "metadata": {
        "colab": {
          "base_uri": "https://localhost:8080/",
          "height": 0
        },
        "id": "iQVJLQAKJ751",
        "outputId": "cff16959-81db-4f79-8da7-0f685e9b117f"
      },
      "source": [
        "data.info()"
      ],
      "execution_count": 22,
      "outputs": [
        {
          "output_type": "stream",
          "name": "stdout",
          "text": [
            "<class 'pandas.core.frame.DataFrame'>\n",
            "RangeIndex: 25 entries, 0 to 24\n",
            "Data columns (total 2 columns):\n",
            " #   Column  Non-Null Count  Dtype  \n",
            "---  ------  --------------  -----  \n",
            " 0   Hours   25 non-null     float64\n",
            " 1   Scores  25 non-null     int64  \n",
            "dtypes: float64(1), int64(1)\n",
            "memory usage: 528.0 bytes\n"
          ]
        }
      ]
    },
    {
      "cell_type": "code",
      "metadata": {
        "colab": {
          "base_uri": "https://localhost:8080/",
          "height": 0
        },
        "id": "ppKwxHFIKCdr",
        "outputId": "9fac6d5f-a8a0-4137-e843-61d5f3a8fd40"
      },
      "source": [
        "#To find number of rows and column\n",
        "data.shape                # THERE ARE 25 ROWS  AND 2COLUMS IN THIS DATAFRAME\n"
      ],
      "execution_count": 23,
      "outputs": [
        {
          "output_type": "execute_result",
          "data": {
            "text/plain": [
              "(25, 2)"
            ]
          },
          "metadata": {},
          "execution_count": 23
        }
      ]
    },
    {
      "cell_type": "code",
      "metadata": {
        "colab": {
          "base_uri": "https://localhost:8080/",
          "height": 297
        },
        "id": "efd4UfeuKwxt",
        "outputId": "f96365db-d648-4aed-e02e-8c790f5be118"
      },
      "source": [
        "#DESCRIBE() IS USED TO FIND A BASIC STATASTICAL DETAILS\n",
        "data.describe()"
      ],
      "execution_count": 24,
      "outputs": [
        {
          "output_type": "execute_result",
          "data": {
            "text/html": [
              "<div>\n",
              "<style scoped>\n",
              "    .dataframe tbody tr th:only-of-type {\n",
              "        vertical-align: middle;\n",
              "    }\n",
              "\n",
              "    .dataframe tbody tr th {\n",
              "        vertical-align: top;\n",
              "    }\n",
              "\n",
              "    .dataframe thead th {\n",
              "        text-align: right;\n",
              "    }\n",
              "</style>\n",
              "<table border=\"1\" class=\"dataframe\">\n",
              "  <thead>\n",
              "    <tr style=\"text-align: right;\">\n",
              "      <th></th>\n",
              "      <th>Hours</th>\n",
              "      <th>Scores</th>\n",
              "    </tr>\n",
              "  </thead>\n",
              "  <tbody>\n",
              "    <tr>\n",
              "      <th>count</th>\n",
              "      <td>25.000000</td>\n",
              "      <td>25.000000</td>\n",
              "    </tr>\n",
              "    <tr>\n",
              "      <th>mean</th>\n",
              "      <td>5.012000</td>\n",
              "      <td>51.480000</td>\n",
              "    </tr>\n",
              "    <tr>\n",
              "      <th>std</th>\n",
              "      <td>2.525094</td>\n",
              "      <td>25.286887</td>\n",
              "    </tr>\n",
              "    <tr>\n",
              "      <th>min</th>\n",
              "      <td>1.100000</td>\n",
              "      <td>17.000000</td>\n",
              "    </tr>\n",
              "    <tr>\n",
              "      <th>25%</th>\n",
              "      <td>2.700000</td>\n",
              "      <td>30.000000</td>\n",
              "    </tr>\n",
              "    <tr>\n",
              "      <th>50%</th>\n",
              "      <td>4.800000</td>\n",
              "      <td>47.000000</td>\n",
              "    </tr>\n",
              "    <tr>\n",
              "      <th>75%</th>\n",
              "      <td>7.400000</td>\n",
              "      <td>75.000000</td>\n",
              "    </tr>\n",
              "    <tr>\n",
              "      <th>max</th>\n",
              "      <td>9.200000</td>\n",
              "      <td>95.000000</td>\n",
              "    </tr>\n",
              "  </tbody>\n",
              "</table>\n",
              "</div>"
            ],
            "text/plain": [
              "           Hours     Scores\n",
              "count  25.000000  25.000000\n",
              "mean    5.012000  51.480000\n",
              "std     2.525094  25.286887\n",
              "min     1.100000  17.000000\n",
              "25%     2.700000  30.000000\n",
              "50%     4.800000  47.000000\n",
              "75%     7.400000  75.000000\n",
              "max     9.200000  95.000000"
            ]
          },
          "metadata": {},
          "execution_count": 24
        }
      ]
    },
    {
      "cell_type": "code",
      "metadata": {
        "colab": {
          "base_uri": "https://localhost:8080/",
          "height": 0
        },
        "id": "bJ-ReLtgL2ca",
        "outputId": "d78929b9-a5fb-48aa-b5b7-5ae19572522b"
      },
      "source": [
        "#TO count no of non-NA observation\n",
        "data.count()"
      ],
      "execution_count": 25,
      "outputs": [
        {
          "output_type": "execute_result",
          "data": {
            "text/plain": [
              "Hours     25\n",
              "Scores    25\n",
              "dtype: int64"
            ]
          },
          "metadata": {},
          "execution_count": 25
        }
      ]
    },
    {
      "cell_type": "markdown",
      "metadata": {
        "id": "qHn54uk0l_Ng"
      },
      "source": [
        "# **Visualizing data**"
      ]
    },
    {
      "cell_type": "code",
      "metadata": {
        "colab": {
          "base_uri": "https://localhost:8080/",
          "height": 321
        },
        "id": "NDutBatBNmEU",
        "outputId": "52dcb370-3d24-4728-8748-e6afd66b0c80"
      },
      "source": [
        "# TO FIND RELATION BETWEEN TWO VARIABLES\n",
        "#PLOTTING THE DATA USING MATPLOTLIB\n",
        "scores=data['Scores']\n",
        "hrs=data['Hours']\n",
        "plt.scatter(hrs,scores,s=None,c='green',marker=None)\n",
        "plt.grid()\n",
        "plt.xlabel(\"Hours studied\",fontsize=14)\n",
        "plt.ylabel(\"student score\",fontsize=14)\n",
        "plt.title(\"Hours studied vs Marks scored\",fontsize=20)\n",
        "plt.show()\n",
        "print(\"THIS GRAPH SHOWS THERE IS LINEAR RELATIONSHIP BETWEEN TWO VARIABLES\")"
      ],
      "execution_count": 26,
      "outputs": [
        {
          "output_type": "display_data",
          "data": {
            "image/png": "[encoded data removed]",
            "text/plain": [
              "<Figure size 432x288 with 1 Axes>"
            ]
          },
          "metadata": {
            "needs_background": "light"
          }
        },
        {
          "output_type": "stream",
          "name": "stdout",
          "text": [
            "THIS GRAPH SHOWS THERE IS LINEAR RELATIONSHIP BETWEEN TWO VARIABLES\n"
          ]
        }
      ]
    },
    {
      "cell_type": "code",
      "metadata": {
        "colab": {
          "base_uri": "https://localhost:8080/",
          "height": 111
        },
        "id": "J2iWVDqAtD4c",
        "outputId": "2df30291-368b-49d2-ced6-c932bf43e9bd"
      },
      "source": [
        "#To find the corellation between two variables\n",
        "data.corr()"
      ],
      "execution_count": 27,
      "outputs": [
        {
          "output_type": "execute_result",
          "data": {
            "text/html": [
              "<div>\n",
              "<style scoped>\n",
              "    .dataframe tbody tr th:only-of-type {\n",
              "        vertical-align: middle;\n",
              "    }\n",
              "\n",
              "    .dataframe tbody tr th {\n",
              "        vertical-align: top;\n",
              "    }\n",
              "\n",
              "    .dataframe thead th {\n",
              "        text-align: right;\n",
              "    }\n",
              "</style>\n",
              "<table border=\"1\" class=\"dataframe\">\n",
              "  <thead>\n",
              "    <tr style=\"text-align: right;\">\n",
              "      <th></th>\n",
              "      <th>Hours</th>\n",
              "      <th>Scores</th>\n",
              "    </tr>\n",
              "  </thead>\n",
              "  <tbody>\n",
              "    <tr>\n",
              "      <th>Hours</th>\n",
              "      <td>1.000000</td>\n",
              "      <td>0.976191</td>\n",
              "    </tr>\n",
              "    <tr>\n",
              "      <th>Scores</th>\n",
              "      <td>0.976191</td>\n",
              "      <td>1.000000</td>\n",
              "    </tr>\n",
              "  </tbody>\n",
              "</table>\n",
              "</div>"
            ],
            "text/plain": [
              "           Hours    Scores\n",
              "Hours   1.000000  0.976191\n",
              "Scores  0.976191  1.000000"
            ]
          },
          "metadata": {},
          "execution_count": 27
        }
      ]
    },
    {
      "cell_type": "markdown",
      "metadata": {
        "id": "Ep7C68YZ3fIZ"
      },
      "source": [
        "# **TRAINING AND TESTING THE DATA**"
      ]
    },
    {
      "cell_type": "code",
      "metadata": {
        "colab": {
          "base_uri": "https://localhost:8080/",
          "height": 0
        },
        "id": "oHv9C33V2_Zc",
        "outputId": "90b2c900-03e2-4aad-8f66-41828b3fe189"
      },
      "source": [
        "#HERE LET US SPLIT THE DATASET INTO TWO PARTS:TRAINING DATA AND TESTING DATA\n",
        "\n",
        "x=data.iloc[:,:-1].values\n",
        "y= data.iloc[:,1:].values\n",
        "print(\"x values:\\n\",x)\n",
        "print(\"y values:\\n\",y)"
      ],
      "execution_count": 28,
      "outputs": [
        {
          "output_type": "stream",
          "name": "stdout",
          "text": [
            "x values:\n",
            " [[2.5]\n",
            " [5.1]\n",
            " [3.2]\n",
            " [8.5]\n",
            " [3.5]\n",
            " [1.5]\n",
            " [9.2]\n",
            " [5.5]\n",
            " [8.3]\n",
            " [2.7]\n",
            " [7.7]\n",
            " [5.9]\n",
            " [4.5]\n",
            " [3.3]\n",
            " [1.1]\n",
            " [8.9]\n",
            " [2.5]\n",
            " [1.9]\n",
            " [6.1]\n",
            " [7.4]\n",
            " [2.7]\n",
            " [4.8]\n",
            " [3.8]\n",
            " [6.9]\n",
            " [7.8]]\n",
            "y values:\n",
            " [[21]\n",
            " [47]\n",
            " [27]\n",
            " [75]\n",
            " [30]\n",
            " [20]\n",
            " [88]\n",
            " [60]\n",
            " [81]\n",
            " [25]\n",
            " [85]\n",
            " [62]\n",
            " [41]\n",
            " [42]\n",
            " [17]\n",
            " [95]\n",
            " [30]\n",
            " [24]\n",
            " [67]\n",
            " [69]\n",
            " [30]\n",
            " [54]\n",
            " [35]\n",
            " [76]\n",
            " [86]]\n"
          ]
        }
      ]
    },
    {
      "cell_type": "code",
      "metadata": {
        "id": "AKEhKgOX7_J8"
      },
      "source": [
        "#SPLITING DATSET USING train_test_split from sklearn \n",
        "from sklearn.model_selection import train_test_split\n",
        "x_train,x_test,y_train,y_test=train_test_split(x,y,random_state=10,test_size=0.3)"
      ],
      "execution_count": 29,
      "outputs": []
    },
    {
      "cell_type": "markdown",
      "metadata": {
        "id": "D_3wyz3-9FKq"
      },
      "source": [
        "# **TRAINING THE MODEL**"
      ]
    },
    {
      "cell_type": "code",
      "metadata": {
        "colab": {
          "base_uri": "https://localhost:8080/",
          "height": 301
        },
        "id": "pFDA2R4P9dVm",
        "outputId": "a858b2df-44f4-4942-ccd9-b75a1ed8384e"
      },
      "source": [
        "#USING LINEAR REGRESSION\n",
        "#regression line on training data\n",
        "from sklearn.linear_model import LinearRegression\n",
        "reg=LinearRegression()\n",
        "reg.fit(x_train,y_train)\n",
        "plt.scatter(x_train,y_train,c='green') \n",
        "plt.plot(x_train,reg.predict(x_train),c='red')\n",
        "plt.title(\"regression line on train dataset\",fontsize=16)\n",
        "plt.xlabel(\"Hours studied\",fontsize=14)\n",
        "plt.ylabel(\"student scores\",fontsize=14)\n",
        "plt.xticks()\n",
        "plt.yticks()\n",
        "plt.grid()\n",
        "plt.show()\n",
        "\n"
      ],
      "execution_count": 30,
      "outputs": [
        {
          "output_type": "display_data",
          "data": {
            "image/png": "[encoded data removed]",
            "text/plain": [
              "<Figure size 432x288 with 1 Axes>"
            ]
          },
          "metadata": {
            "needs_background": "light"
          }
        }
      ]
    },
    {
      "cell_type": "code",
      "metadata": {
        "colab": {
          "base_uri": "https://localhost:8080/",
          "height": 301
        },
        "id": "xYJyNML-OrjX",
        "outputId": "628bad1a-ec03-4349-b506-bf7c9d1390bd"
      },
      "source": [
        "#regression line on test dataset\n",
        "reg.fit(x_test,y_test)\n",
        "plt.scatter(x_test,y_test,c='green')\n",
        "plt.plot(x_test,reg.predict(x_test),c='red')\n",
        "plt.xlabel(\"Hours studied\",fontsize=14)\n",
        "plt.ylabel(\"student score\",fontsize=14)\n",
        "plt.title(\"regression line on test dataset\",fontsize=16)\n",
        "plt.grid()\n",
        "plt.xticks()\n",
        "plt.yticks()\n",
        "plt.show()\n"
      ],
      "execution_count": 31,
      "outputs": [
        {
          "output_type": "display_data",
          "data": {
            "image/png": "[encoded data removed]",
            "text/plain": [
              "<Figure size 432x288 with 1 Axes>"
            ]
          },
          "metadata": {
            "needs_background": "light"
          }
        }
      ]
    },
    {
      "cell_type": "markdown",
      "metadata": {
        "id": "4KsHWkvEZWlR"
      },
      "source": [
        "# **Making predictions**"
      ]
    },
    {
      "cell_type": "code",
      "metadata": {
        "colab": {
          "base_uri": "https://localhost:8080/",
          "height": 80
        },
        "id": "9c9_bTQGWIaj",
        "outputId": "86dac328-a398-4607-f020-801deaf0dc74"
      },
      "source": [
        "from sklearn.metrics import mean_absolute_error\n",
        "y_predict=reg.predict(x_test)\n",
        "d={'ACTUAL':[y_test],'predicted':[y_predict]}\n",
        "df=pd.DataFrame(d)\n",
        "df\n"
      ],
      "execution_count": 32,
      "outputs": [
        {
          "output_type": "execute_result",
          "data": {
            "text/html": [
              "<div>\n",
              "<style scoped>\n",
              "    .dataframe tbody tr th:only-of-type {\n",
              "        vertical-align: middle;\n",
              "    }\n",
              "\n",
              "    .dataframe tbody tr th {\n",
              "        vertical-align: top;\n",
              "    }\n",
              "\n",
              "    .dataframe thead th {\n",
              "        text-align: right;\n",
              "    }\n",
              "</style>\n",
              "<table border=\"1\" class=\"dataframe\">\n",
              "  <thead>\n",
              "    <tr style=\"text-align: right;\">\n",
              "      <th></th>\n",
              "      <th>ACTUAL</th>\n",
              "      <th>predicted</th>\n",
              "    </tr>\n",
              "  </thead>\n",
              "  <tbody>\n",
              "    <tr>\n",
              "      <th>0</th>\n",
              "      <td>[[20], [47], [42], [27], [41], [69], [17], [60]]</td>\n",
              "      <td>[[19.64392719072164], [50.105911726804116], [3...</td>\n",
              "    </tr>\n",
              "  </tbody>\n",
              "</table>\n",
              "</div>"
            ],
            "text/plain": [
              "                                             ACTUAL                                          predicted\n",
              "0  [[20], [47], [42], [27], [41], [69], [17], [60]]  [[19.64392719072164], [50.105911726804116], [3..."
            ]
          },
          "metadata": {},
          "execution_count": 32
        }
      ]
    },
    {
      "cell_type": "markdown",
      "metadata": {
        "id": "keQn3KerkYSZ"
      },
      "source": [
        "## ***predecting  student score if he/she studies for 9.25 hours ***"
      ]
    },
    {
      "cell_type": "code",
      "metadata": {
        "id": "omfWnpP-kbeo",
        "colab": {
          "base_uri": "https://localhost:8080/",
          "height": 0
        },
        "outputId": "cb83c94c-c8df-4ef0-b819-3dfa4e5c0f5d"
      },
      "source": [
        "hrs=float(input())\n",
        "predict=reg.predict([[hrs]])[0]\n",
        "\n",
        "print(\"The predicted score if he/she studies for\",hrs,\":\",predict)"
      ],
      "execution_count": 33,
      "outputs": [
        {
          "output_type": "stream",
          "name": "stdout",
          "text": [
            "9.25\n",
            "The predicted score if he/she studies for 9.25 : [85.22181057]\n"
          ]
        }
      ]
    },
    {
      "cell_type": "markdown",
      "metadata": {
        "id": "ujcwWUePoQaK"
      },
      "source": [
        "### ***if a person studies for 9.25 hrs he/she scores 85.22 ***"
      ]
    },
    {
      "cell_type": "code",
      "metadata": {
        "id": "Qg8oumWz-gwp",
        "colab": {
          "base_uri": "https://localhost:8080/",
          "height": 0
        },
        "outputId": "a0f40d8e-3ca8-452b-e4f8-17abb0b59a1d"
      },
      "source": [
        "from sklearn.metrics import mean_absolute_error,mean_squared_error    # lower the error higher the accuracy\n",
        "print(\"mean absolute error:\",mean_absolute_error(y_test,y_predict))\n",
        "print(\"root squared error:\",np.sqrt(mean_absolute_error(y_test,y_predict)))\n",
        "print(\"mean square error:\",mean_squared_error(y_test,y_predict))\n",
        "print(\"Since,the value of mae,rmse and mse are lower the regression model is more accurate\")\n"
      ],
      "execution_count": 34,
      "outputs": [
        {
          "output_type": "stream",
          "name": "stdout",
          "text": [
            "mean absolute error: 3.6828286082474246\n",
            "root squared error: 1.9190697246966888\n",
            "mean square error: 21.1774222777062\n",
            "Since,the value of mae,rmse and mse are lower the regression model is more accurate\n"
          ]
        }
      ]
    },
    {
      "cell_type": "markdown",
      "metadata": {
        "id": "6yAb8fuRGr_s"
      },
      "source": [
        "# **THANK YOU**"
      ]
    }
  ]
}